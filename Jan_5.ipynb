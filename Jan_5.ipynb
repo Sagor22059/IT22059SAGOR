{
  "nbformat": 4,
  "nbformat_minor": 0,
  "metadata": {
    "colab": {
      "provenance": [],
      "authorship_tag": "ABX9TyNLC4XWy3qLHqQvwHFoW0Cb",
      "include_colab_link": true
    },
    "kernelspec": {
      "name": "python3",
      "display_name": "Python 3"
    },
    "language_info": {
      "name": "python"
    }
  },
  "cells": [
    {
      "cell_type": "markdown",
      "metadata": {
        "id": "view-in-github",
        "colab_type": "text"
      },
      "source": [
        "<a href=\"https://colab.research.google.com/github/Sagor22059/IT22059SAGOR/blob/main/Jan_5.ipynb\" target=\"_parent\"><img src=\"https://colab.research.google.com/assets/colab-badge.svg\" alt=\"Open In Colab\"/></a>"
      ]
    },
    {
      "cell_type": "code",
      "source": [
        "def MBSTU_TotalDept(f_engg, f_ls, Others):\n",
        "  total_dept = f_engg + f_ls + Others\n",
        "  return total_dept\n",
        "\n",
        "\n",
        "f_engg = int(input(\"Enter no of Dept of f_engg:\"))\n",
        "f_ls = int(input(\"Enter no of Dept of f_ls:\"))\n",
        "others = int(input(\"Enter no of other dept:\"))\n",
        "\n",
        "print(\"Total dept of MBSTU:\",MBSTU_TotalDept(f_engg, f_ls, others))"
      ],
      "metadata": {
        "colab": {
          "base_uri": "https://localhost:8080/"
        },
        "id": "M1wT63SUcPHr",
        "outputId": "5c4196ed-d9d9-48a3-a66b-a6442223ed07"
      },
      "execution_count": 8,
      "outputs": [
        {
          "output_type": "stream",
          "name": "stdout",
          "text": [
            "Enter no of Dept of f_engg:2\n",
            "Enter no of Dept of f_ls:10\n",
            "Enter no of other dept:6\n",
            "Total dept of MBSTU: 18\n"
          ]
        }
      ]
    },
    {
      "cell_type": "code",
      "source": [
        "import datetime\n",
        "\n",
        "x = datetime.datetime.now()\n",
        "\n",
        "print(x.year)\n",
        "print(x.strftime(\"%A\"))"
      ],
      "metadata": {
        "colab": {
          "base_uri": "https://localhost:8080/"
        },
        "id": "GY07WJVWdg4A",
        "outputId": "1c909976-0649-43a7-9752-18f9bb9d07c0"
      },
      "execution_count": 9,
      "outputs": [
        {
          "output_type": "stream",
          "name": "stdout",
          "text": [
            "2025\n",
            "Sunday\n"
          ]
        }
      ]
    },
    {
      "cell_type": "code",
      "source": [
        "from datetime import date\n",
        "\n",
        "\n",
        "date.fromisoformat('2019-12-04')"
      ],
      "metadata": {
        "colab": {
          "base_uri": "https://localhost:8080/"
        },
        "id": "tO3rLZXCd03i",
        "outputId": "6a646600-5b52-4838-9802-eb6e2c2cb9e7"
      },
      "execution_count": 10,
      "outputs": [
        {
          "output_type": "execute_result",
          "data": {
            "text/plain": [
              "datetime.date(2019, 12, 4)"
            ]
          },
          "metadata": {},
          "execution_count": 10
        }
      ]
    },
    {
      "cell_type": "code",
      "source": [
        "\n",
        "import math\n",
        "\n",
        "\n",
        "print(math.pi)"
      ],
      "metadata": {
        "colab": {
          "base_uri": "https://localhost:8080/"
        },
        "id": "uO3SdWdpeIrz",
        "outputId": "a0255b59-b471-42b3-c69b-72589a67a6d7"
      },
      "execution_count": 11,
      "outputs": [
        {
          "output_type": "stream",
          "name": "stdout",
          "text": [
            "3.141592653589793\n"
          ]
        }
      ]
    },
    {
      "cell_type": "code",
      "source": [
        "from math import pi\n",
        "\n",
        "fraser = str(pi)\n",
        "\n",
        "print(fraser)"
      ],
      "metadata": {
        "colab": {
          "base_uri": "https://localhost:8080/"
        },
        "id": "8JGuLLA-eMsX",
        "outputId": "9593410f-90c0-405d-fe20-38b189bda794"
      },
      "execution_count": 12,
      "outputs": [
        {
          "output_type": "stream",
          "name": "stdout",
          "text": [
            "3.141592653589793\n"
          ]
        }
      ]
    },
    {
      "cell_type": "code",
      "source": [
        "from math import pi\n",
        "\n",
        "fraser = str(pi)\n",
        "\n",
        "length_of_pi = []\n",
        "\n",
        "number_of_places = raw_input(\"Enter the number of decimal places you want to se: \")\n",
        "\n",
        "for number_of_places in fraser:\n",
        "    length_of_pi.append(str(number_of_places))\n",
        "\n",
        "print \"\".join(length_of_pi)"
      ],
      "metadata": {
        "colab": {
          "base_uri": "https://localhost:8080/",
          "height": 106
        },
        "id": "QfI8wuxlegsG",
        "outputId": "4e81799d-51c1-4034-c341-27b2493d60be"
      },
      "execution_count": 13,
      "outputs": [
        {
          "output_type": "error",
          "ename": "SyntaxError",
          "evalue": "Missing parentheses in call to 'print'. Did you mean print(...)? (<ipython-input-13-8f90703f6950>, line 12)",
          "traceback": [
            "\u001b[0;36m  File \u001b[0;32m\"<ipython-input-13-8f90703f6950>\"\u001b[0;36m, line \u001b[0;32m12\u001b[0m\n\u001b[0;31m    print \"\".join(length_of_pi)\u001b[0m\n\u001b[0m    ^\u001b[0m\n\u001b[0;31mSyntaxError\u001b[0m\u001b[0;31m:\u001b[0m Missing parentheses in call to 'print'. Did you mean print(...)?\n"
          ]
        }
      ]
    },
    {
      "cell_type": "code",
      "source": [
        "# prompt: python code print pi value 50 digit\n",
        "\n",
        "import decimal\n",
        "\n",
        "# Set the precision for decimal calculations\n",
        "decimal.getcontext().prec = 52  # Set precision to 52 digits (including the integer part)\n",
        "\n",
        "# Calculate pi using the decimal module\n",
        "pi_value = decimal.Decimal(str(decimal.Decimal(3.14159265358979323846264338327950288419716939937510)))\n",
        "\n",
        "# Format the output to display 50 decimal places\n",
        "formatted_pi = \"{:.50f}\".format(pi_value)\n",
        "formatted_pi"
      ],
      "metadata": {
        "colab": {
          "base_uri": "https://localhost:8080/",
          "height": 36
        },
        "id": "LeAPa4RHe4lg",
        "outputId": "fba5d431-3e27-4ed7-bf31-2296baa853b0"
      },
      "execution_count": 14,
      "outputs": [
        {
          "output_type": "execute_result",
          "data": {
            "text/plain": [
              "'3.14159265358979311599796346854418516159057617187500'"
            ],
            "application/vnd.google.colaboratory.intrinsic+json": {
              "type": "string"
            }
          },
          "metadata": {},
          "execution_count": 14
        }
      ]
    },
    {
      "cell_type": "code",
      "source": [
        "\n",
        "from mpmath import mp\n",
        "\n",
        "def print_pi_to_n_digits(n):\n",
        "    # Set precision to n decimal places\n",
        "    mp.dps = n + 1  # Adding 1 to account for the \"3.\" before the decimals\n",
        "    # Return pi to n decimal places as a string\n",
        "    return str(mp.pi)\n",
        "\n",
        "\n",
        "\n",
        "print_pi_to_n_digits(50000000)"
      ],
      "metadata": {
        "id": "U7QVNwFHe_uC"
      },
      "execution_count": null,
      "outputs": []
    },
    {
      "cell_type": "code",
      "source": [
        "#Import math library\n",
        "import math\n",
        "#Floor and Ceiling\n",
        "print('The Floor and Ceiling value of 9.45 are:' + str(math.ceil(9.45)) + ', ' + str(math.floor(9.45)))\n"
      ],
      "metadata": {
        "colab": {
          "base_uri": "https://localhost:8080/"
        },
        "id": "ba6mVbK-flSu",
        "outputId": "aea385e5-9d58-4da0-f1f9-704a4ccd7d07"
      },
      "execution_count": 16,
      "outputs": [
        {
          "output_type": "stream",
          "name": "stdout",
          "text": [
            "The Floor and Ceiling value of 9.45 are:10, 9\n"
          ]
        }
      ]
    },
    {
      "cell_type": "code",
      "source": [
        "#Copysign\n",
        "x = 94\n",
        "y = -27\n",
        "print('The value of x after copying the sign from y is: ' + str(math.copysign(x, y)))\n"
      ],
      "metadata": {
        "colab": {
          "base_uri": "https://localhost:8080/"
        },
        "id": "YQEvTMNEf0OE",
        "outputId": "f9b80e91-c366-49a6-fcac-dcb16b44e348"
      },
      "execution_count": 17,
      "outputs": [
        {
          "output_type": "stream",
          "name": "stdout",
          "text": [
            "The value of x after copying the sign from y is: -94.0\n"
          ]
        }
      ]
    },
    {
      "cell_type": "code",
      "source": [
        "#Absolute\n",
        "print('Absolute value of -94 and 54 are: ' + str(math.fabs(-94)) + ', ' + str(math.fabs(54)))"
      ],
      "metadata": {
        "colab": {
          "base_uri": "https://localhost:8080/"
        },
        "id": "UII12Rwagefk",
        "outputId": "55fa0ad4-57d6-4dea-f462-a0995a632dfd"
      },
      "execution_count": 19,
      "outputs": [
        {
          "output_type": "stream",
          "name": "stdout",
          "text": [
            "Absolute value of -94 and 54 are: 94.0, 54.0\n"
          ]
        }
      ]
    },
    {
      "cell_type": "code",
      "source": [
        "#Fsum & gcd\n",
        "my_list = [12, 9.25, 89, 3.02, -75.23, -7.2, 6.3]\n",
        "print('Sum of the elements of the list: ' + str(math.fsum(my_list)))\n",
        "print('The GCD of 24 and 56 : ' + str(math.gcd(24, 48)))"
      ],
      "metadata": {
        "colab": {
          "base_uri": "https://localhost:8080/"
        },
        "id": "y5JtDJ7Tgluc",
        "outputId": "2cabca25-bb88-43d8-f14d-11e8853b580b"
      },
      "execution_count": 20,
      "outputs": [
        {
          "output_type": "stream",
          "name": "stdout",
          "text": [
            "Sum of the elements of the list: 37.13999999999999\n",
            "The GCD of 24 and 56 : 24\n"
          ]
        }
      ]
    },
    {
      "cell_type": "code",
      "source": [
        "#isnan\n",
        "x = float('nan')\n",
        "if math.isnan(x):\n",
        "   print('It is not a number')"
      ],
      "metadata": {
        "colab": {
          "base_uri": "https://localhost:8080/"
        },
        "id": "NbNlXxdHhJPo",
        "outputId": "85b1e104-7a36-43c6-ddea-b32066c729e0"
      },
      "execution_count": 21,
      "outputs": [
        {
          "output_type": "stream",
          "name": "stdout",
          "text": [
            "It is not a number\n"
          ]
        }
      ]
    },
    {
      "cell_type": "code",
      "source": [
        "#isinf\n",
        "y = 54\n",
        "if math.isinf(x):\n",
        "   print('It is Infinity')\n",
        "      #x is not a finite number\n",
        "print(math.isfinite(x))\n",
        "   #y is a finite number\n",
        "print(math.isfinite(y))"
      ],
      "metadata": {
        "colab": {
          "base_uri": "https://localhost:8080/"
        },
        "id": "kWTZIh-ghRjO",
        "outputId": "1b3a7315-0315-4875-8926-f49278397af0"
      },
      "execution_count": 22,
      "outputs": [
        {
          "output_type": "stream",
          "name": "stdout",
          "text": [
            "False\n",
            "True\n"
          ]
        }
      ]
    }
  ]
}